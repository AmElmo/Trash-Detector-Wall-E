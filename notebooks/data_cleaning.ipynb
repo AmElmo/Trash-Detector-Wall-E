{
 "cells": [
  {
   "cell_type": "markdown",
   "metadata": {},
   "source": [
    "## Imports"
   ]
  },
  {
   "cell_type": "code",
   "execution_count": 1,
   "metadata": {},
   "outputs": [],
   "source": [
    "import json\n",
    "import pandas as pd\n",
    "import copy\n",
    "import matplotlib as plt\n",
    "import seaborn as sns"
   ]
  },
  {
   "cell_type": "markdown",
   "metadata": {},
   "source": [
    "## Change annotations to 7 categories (TACO dataset)"
   ]
  },
  {
   "cell_type": "code",
   "execution_count": 2,
   "metadata": {},
   "outputs": [],
   "source": [
    "# Load JSON\n",
    "\n",
    "with open('../data/TACO/annotations.json') as f:\n",
    "    data_taco = json.load(f)"
   ]
  },
  {
   "cell_type": "code",
   "execution_count": 3,
   "metadata": {},
   "outputs": [],
   "source": [
    "# Pull dictionary of categories (60)\n",
    "\n",
    "dict_taco = {}\n",
    "\n",
    "for x in range(60):\n",
    "    id = data_taco['categories'][x]['id']\n",
    "    name = data_taco['categories'][x]['name']\n",
    "    dict_taco[id] = name"
   ]
  },
  {
   "cell_type": "code",
   "execution_count": 4,
   "metadata": {},
   "outputs": [],
   "source": [
    "# Instantiate new dictionary of 5 categories\n",
    "\n",
    "final_categories = {\n",
    "    0: 'Paper',\n",
    "    1: 'Plastic',\n",
    "    2: 'Glass',\n",
    "    3: 'Metal',\n",
    "    4: 'Organic',\n",
    "    5: 'E-Waste',\n",
    "    6: 'Non-recyclable'\n",
    "}"
   ]
  },
  {
   "cell_type": "code",
   "execution_count": 5,
   "metadata": {},
   "outputs": [],
   "source": [
    "# Create new mapping between categories\n",
    "\n",
    "unique_cat_taco = list(dict_taco.values())\n",
    "unique_cat_ids = set(key for key, val in dict_taco.items())\n",
    "\n",
    "matching_cat_final = [\n",
    "'Non-recyclable',\n",
    "'E-Waste',\n",
    "'Non-recyclable',\n",
    "'Non-recyclable',\n",
    "'Plastic',\n",
    "'Plastic',\n",
    "'Glass',\n",
    "'Plastic',\n",
    "'Metal',\n",
    "'Glass',\n",
    "'Non-recyclable',\n",
    "'Metal',\n",
    "'Metal',\n",
    "'Paper',\n",
    "'Paper',\n",
    "'Paper',\n",
    "'Paper',\n",
    "'Paper',\n",
    "'Paper',\n",
    "'Paper',\n",
    "'Paper',\n",
    "'Plastic',\n",
    "'Non-recyclable',\n",
    "'Non-recyclable',\n",
    "'Plastic',\n",
    "'Organic',\n",
    "'Glass',\n",
    "'Plastic',\n",
    "'Metal',\n",
    "'Plastic',\n",
    "'Paper',\n",
    "'Non-recyclable',\n",
    "'Paper',\n",
    "'Paper',\n",
    "'Paper',\n",
    "'Non-recyclable',\n",
    "'Plastic',\n",
    "'Plastic',\n",
    "'Non-recyclable',\n",
    "'Plastic',\n",
    "'Plastic',\n",
    "'Non-recyclable',\n",
    "'Plastic',\n",
    "'Plastic',\n",
    "'Plastic',\n",
    "'Plastic',\n",
    "'Non-recyclable',\n",
    "'Plastic',\n",
    "'Plastic',\n",
    "'Plastic',\n",
    "'Metal',\n",
    "'Non-recyclable',\n",
    "'Metal',\n",
    "'Non-recyclable',\n",
    "'Non-recyclable',\n",
    "'Plastic',\n",
    "'Paper',\n",
    "'Non-recyclable',\n",
    "'!!! Remove !!!',\n",
    "'Non-recyclable'\n",
    "]\n",
    "\n"
   ]
  },
  {
   "cell_type": "code",
   "execution_count": 6,
   "metadata": {},
   "outputs": [],
   "source": [
    "# Concatenate to Dataframe\n",
    "\n",
    "unique_cat_taco = pd.DataFrame(unique_cat_taco, columns=['Taco category'])\n",
    "\n",
    "matching_cat_final = pd.DataFrame(matching_cat_final, columns=['New category'])\n",
    "\n",
    "matching_dict = pd.concat([unique_cat_taco, matching_cat_final], axis=1)\n"
   ]
  },
  {
   "cell_type": "code",
   "execution_count": 7,
   "metadata": {},
   "outputs": [],
   "source": [
    "# Get list of IDs from original list\n",
    "\n",
    "list_ids = []\n",
    "\n",
    "for category in matching_dict['New category']:\n",
    "    id = dict((new_val,new_k) for new_k,new_val in final_categories.items()).get(category)\n",
    "    list_ids.append(id)\n",
    "    \n",
    "list_ids = pd.DataFrame(list_ids, columns=['New category IDs'])\n",
    "\n",
    "# Concatenate to main dataframe\n",
    "\n",
    "matching_dict = pd.concat([matching_dict,list_ids], axis=1)"
   ]
  },
  {
   "cell_type": "code",
   "execution_count": 8,
   "metadata": {},
   "outputs": [],
   "source": [
    "# Remove the \"Unlabeled litter\"\n",
    "\n",
    "matching_dict = matching_dict.drop(labels=58, axis=0)\n",
    "\n",
    "# Convert floats to int32\n",
    "\n",
    "matching_dict = matching_dict.astype({'New category IDs': int})\n"
   ]
  },
  {
   "cell_type": "code",
   "execution_count": 9,
   "metadata": {},
   "outputs": [
    {
     "data": {
      "text/html": [
       "<div>\n",
       "<style scoped>\n",
       "    .dataframe tbody tr th:only-of-type {\n",
       "        vertical-align: middle;\n",
       "    }\n",
       "\n",
       "    .dataframe tbody tr th {\n",
       "        vertical-align: top;\n",
       "    }\n",
       "\n",
       "    .dataframe thead th {\n",
       "        text-align: right;\n",
       "    }\n",
       "</style>\n",
       "<table border=\"1\" class=\"dataframe\">\n",
       "  <thead>\n",
       "    <tr style=\"text-align: right;\">\n",
       "      <th></th>\n",
       "      <th>Taco category</th>\n",
       "      <th>New category</th>\n",
       "      <th>New category IDs</th>\n",
       "    </tr>\n",
       "  </thead>\n",
       "  <tbody>\n",
       "    <tr>\n",
       "      <th>0</th>\n",
       "      <td>Aluminium foil</td>\n",
       "      <td>Non-recyclable</td>\n",
       "      <td>6</td>\n",
       "    </tr>\n",
       "    <tr>\n",
       "      <th>1</th>\n",
       "      <td>Battery</td>\n",
       "      <td>E-Waste</td>\n",
       "      <td>5</td>\n",
       "    </tr>\n",
       "    <tr>\n",
       "      <th>2</th>\n",
       "      <td>Aluminium blister pack</td>\n",
       "      <td>Non-recyclable</td>\n",
       "      <td>6</td>\n",
       "    </tr>\n",
       "    <tr>\n",
       "      <th>3</th>\n",
       "      <td>Carded blister pack</td>\n",
       "      <td>Non-recyclable</td>\n",
       "      <td>6</td>\n",
       "    </tr>\n",
       "    <tr>\n",
       "      <th>4</th>\n",
       "      <td>Other plastic bottle</td>\n",
       "      <td>Plastic</td>\n",
       "      <td>1</td>\n",
       "    </tr>\n",
       "    <tr>\n",
       "      <th>5</th>\n",
       "      <td>Clear plastic bottle</td>\n",
       "      <td>Plastic</td>\n",
       "      <td>1</td>\n",
       "    </tr>\n",
       "    <tr>\n",
       "      <th>6</th>\n",
       "      <td>Glass bottle</td>\n",
       "      <td>Glass</td>\n",
       "      <td>2</td>\n",
       "    </tr>\n",
       "    <tr>\n",
       "      <th>7</th>\n",
       "      <td>Plastic bottle cap</td>\n",
       "      <td>Plastic</td>\n",
       "      <td>1</td>\n",
       "    </tr>\n",
       "    <tr>\n",
       "      <th>8</th>\n",
       "      <td>Metal bottle cap</td>\n",
       "      <td>Metal</td>\n",
       "      <td>3</td>\n",
       "    </tr>\n",
       "    <tr>\n",
       "      <th>9</th>\n",
       "      <td>Broken glass</td>\n",
       "      <td>Glass</td>\n",
       "      <td>2</td>\n",
       "    </tr>\n",
       "    <tr>\n",
       "      <th>10</th>\n",
       "      <td>Food Can</td>\n",
       "      <td>Non-recyclable</td>\n",
       "      <td>6</td>\n",
       "    </tr>\n",
       "    <tr>\n",
       "      <th>11</th>\n",
       "      <td>Aerosol</td>\n",
       "      <td>Metal</td>\n",
       "      <td>3</td>\n",
       "    </tr>\n",
       "    <tr>\n",
       "      <th>12</th>\n",
       "      <td>Drink can</td>\n",
       "      <td>Metal</td>\n",
       "      <td>3</td>\n",
       "    </tr>\n",
       "    <tr>\n",
       "      <th>13</th>\n",
       "      <td>Toilet tube</td>\n",
       "      <td>Paper</td>\n",
       "      <td>0</td>\n",
       "    </tr>\n",
       "    <tr>\n",
       "      <th>14</th>\n",
       "      <td>Other carton</td>\n",
       "      <td>Paper</td>\n",
       "      <td>0</td>\n",
       "    </tr>\n",
       "    <tr>\n",
       "      <th>15</th>\n",
       "      <td>Egg carton</td>\n",
       "      <td>Paper</td>\n",
       "      <td>0</td>\n",
       "    </tr>\n",
       "    <tr>\n",
       "      <th>16</th>\n",
       "      <td>Drink carton</td>\n",
       "      <td>Paper</td>\n",
       "      <td>0</td>\n",
       "    </tr>\n",
       "    <tr>\n",
       "      <th>17</th>\n",
       "      <td>Corrugated carton</td>\n",
       "      <td>Paper</td>\n",
       "      <td>0</td>\n",
       "    </tr>\n",
       "    <tr>\n",
       "      <th>18</th>\n",
       "      <td>Meal carton</td>\n",
       "      <td>Paper</td>\n",
       "      <td>0</td>\n",
       "    </tr>\n",
       "    <tr>\n",
       "      <th>19</th>\n",
       "      <td>Pizza box</td>\n",
       "      <td>Paper</td>\n",
       "      <td>0</td>\n",
       "    </tr>\n",
       "    <tr>\n",
       "      <th>20</th>\n",
       "      <td>Paper cup</td>\n",
       "      <td>Paper</td>\n",
       "      <td>0</td>\n",
       "    </tr>\n",
       "    <tr>\n",
       "      <th>21</th>\n",
       "      <td>Disposable plastic cup</td>\n",
       "      <td>Plastic</td>\n",
       "      <td>1</td>\n",
       "    </tr>\n",
       "    <tr>\n",
       "      <th>22</th>\n",
       "      <td>Foam cup</td>\n",
       "      <td>Non-recyclable</td>\n",
       "      <td>6</td>\n",
       "    </tr>\n",
       "    <tr>\n",
       "      <th>23</th>\n",
       "      <td>Glass cup</td>\n",
       "      <td>Non-recyclable</td>\n",
       "      <td>6</td>\n",
       "    </tr>\n",
       "    <tr>\n",
       "      <th>24</th>\n",
       "      <td>Other plastic cup</td>\n",
       "      <td>Plastic</td>\n",
       "      <td>1</td>\n",
       "    </tr>\n",
       "    <tr>\n",
       "      <th>25</th>\n",
       "      <td>Food waste</td>\n",
       "      <td>Organic</td>\n",
       "      <td>4</td>\n",
       "    </tr>\n",
       "    <tr>\n",
       "      <th>26</th>\n",
       "      <td>Glass jar</td>\n",
       "      <td>Glass</td>\n",
       "      <td>2</td>\n",
       "    </tr>\n",
       "    <tr>\n",
       "      <th>27</th>\n",
       "      <td>Plastic lid</td>\n",
       "      <td>Plastic</td>\n",
       "      <td>1</td>\n",
       "    </tr>\n",
       "    <tr>\n",
       "      <th>28</th>\n",
       "      <td>Metal lid</td>\n",
       "      <td>Metal</td>\n",
       "      <td>3</td>\n",
       "    </tr>\n",
       "    <tr>\n",
       "      <th>29</th>\n",
       "      <td>Other plastic</td>\n",
       "      <td>Plastic</td>\n",
       "      <td>1</td>\n",
       "    </tr>\n",
       "    <tr>\n",
       "      <th>30</th>\n",
       "      <td>Magazine paper</td>\n",
       "      <td>Paper</td>\n",
       "      <td>0</td>\n",
       "    </tr>\n",
       "    <tr>\n",
       "      <th>31</th>\n",
       "      <td>Tissues</td>\n",
       "      <td>Non-recyclable</td>\n",
       "      <td>6</td>\n",
       "    </tr>\n",
       "    <tr>\n",
       "      <th>32</th>\n",
       "      <td>Wrapping paper</td>\n",
       "      <td>Paper</td>\n",
       "      <td>0</td>\n",
       "    </tr>\n",
       "    <tr>\n",
       "      <th>33</th>\n",
       "      <td>Normal paper</td>\n",
       "      <td>Paper</td>\n",
       "      <td>0</td>\n",
       "    </tr>\n",
       "    <tr>\n",
       "      <th>34</th>\n",
       "      <td>Paper bag</td>\n",
       "      <td>Paper</td>\n",
       "      <td>0</td>\n",
       "    </tr>\n",
       "    <tr>\n",
       "      <th>35</th>\n",
       "      <td>Plastified paper bag</td>\n",
       "      <td>Non-recyclable</td>\n",
       "      <td>6</td>\n",
       "    </tr>\n",
       "    <tr>\n",
       "      <th>36</th>\n",
       "      <td>Plastic film</td>\n",
       "      <td>Plastic</td>\n",
       "      <td>1</td>\n",
       "    </tr>\n",
       "    <tr>\n",
       "      <th>37</th>\n",
       "      <td>Six pack rings</td>\n",
       "      <td>Plastic</td>\n",
       "      <td>1</td>\n",
       "    </tr>\n",
       "    <tr>\n",
       "      <th>38</th>\n",
       "      <td>Garbage bag</td>\n",
       "      <td>Non-recyclable</td>\n",
       "      <td>6</td>\n",
       "    </tr>\n",
       "    <tr>\n",
       "      <th>39</th>\n",
       "      <td>Other plastic wrapper</td>\n",
       "      <td>Plastic</td>\n",
       "      <td>1</td>\n",
       "    </tr>\n",
       "    <tr>\n",
       "      <th>40</th>\n",
       "      <td>Single-use carrier bag</td>\n",
       "      <td>Plastic</td>\n",
       "      <td>1</td>\n",
       "    </tr>\n",
       "    <tr>\n",
       "      <th>41</th>\n",
       "      <td>Polypropylene bag</td>\n",
       "      <td>Non-recyclable</td>\n",
       "      <td>6</td>\n",
       "    </tr>\n",
       "    <tr>\n",
       "      <th>42</th>\n",
       "      <td>Crisp packet</td>\n",
       "      <td>Plastic</td>\n",
       "      <td>1</td>\n",
       "    </tr>\n",
       "    <tr>\n",
       "      <th>43</th>\n",
       "      <td>Spread tub</td>\n",
       "      <td>Plastic</td>\n",
       "      <td>1</td>\n",
       "    </tr>\n",
       "    <tr>\n",
       "      <th>44</th>\n",
       "      <td>Tupperware</td>\n",
       "      <td>Plastic</td>\n",
       "      <td>1</td>\n",
       "    </tr>\n",
       "    <tr>\n",
       "      <th>45</th>\n",
       "      <td>Disposable food container</td>\n",
       "      <td>Plastic</td>\n",
       "      <td>1</td>\n",
       "    </tr>\n",
       "    <tr>\n",
       "      <th>46</th>\n",
       "      <td>Foam food container</td>\n",
       "      <td>Non-recyclable</td>\n",
       "      <td>6</td>\n",
       "    </tr>\n",
       "    <tr>\n",
       "      <th>47</th>\n",
       "      <td>Other plastic container</td>\n",
       "      <td>Plastic</td>\n",
       "      <td>1</td>\n",
       "    </tr>\n",
       "    <tr>\n",
       "      <th>48</th>\n",
       "      <td>Plastic glooves</td>\n",
       "      <td>Plastic</td>\n",
       "      <td>1</td>\n",
       "    </tr>\n",
       "    <tr>\n",
       "      <th>49</th>\n",
       "      <td>Plastic utensils</td>\n",
       "      <td>Plastic</td>\n",
       "      <td>1</td>\n",
       "    </tr>\n",
       "    <tr>\n",
       "      <th>50</th>\n",
       "      <td>Pop tab</td>\n",
       "      <td>Metal</td>\n",
       "      <td>3</td>\n",
       "    </tr>\n",
       "    <tr>\n",
       "      <th>51</th>\n",
       "      <td>Rope &amp; strings</td>\n",
       "      <td>Non-recyclable</td>\n",
       "      <td>6</td>\n",
       "    </tr>\n",
       "    <tr>\n",
       "      <th>52</th>\n",
       "      <td>Scrap metal</td>\n",
       "      <td>Metal</td>\n",
       "      <td>3</td>\n",
       "    </tr>\n",
       "    <tr>\n",
       "      <th>53</th>\n",
       "      <td>Shoe</td>\n",
       "      <td>Non-recyclable</td>\n",
       "      <td>6</td>\n",
       "    </tr>\n",
       "    <tr>\n",
       "      <th>54</th>\n",
       "      <td>Squeezable tube</td>\n",
       "      <td>Non-recyclable</td>\n",
       "      <td>6</td>\n",
       "    </tr>\n",
       "    <tr>\n",
       "      <th>55</th>\n",
       "      <td>Plastic straw</td>\n",
       "      <td>Plastic</td>\n",
       "      <td>1</td>\n",
       "    </tr>\n",
       "    <tr>\n",
       "      <th>56</th>\n",
       "      <td>Paper straw</td>\n",
       "      <td>Paper</td>\n",
       "      <td>0</td>\n",
       "    </tr>\n",
       "    <tr>\n",
       "      <th>57</th>\n",
       "      <td>Styrofoam piece</td>\n",
       "      <td>Non-recyclable</td>\n",
       "      <td>6</td>\n",
       "    </tr>\n",
       "    <tr>\n",
       "      <th>59</th>\n",
       "      <td>Cigarette</td>\n",
       "      <td>Non-recyclable</td>\n",
       "      <td>6</td>\n",
       "    </tr>\n",
       "  </tbody>\n",
       "</table>\n",
       "</div>"
      ],
      "text/plain": [
       "                Taco category    New category  New category IDs\n",
       "0              Aluminium foil  Non-recyclable                 6\n",
       "1                     Battery         E-Waste                 5\n",
       "2      Aluminium blister pack  Non-recyclable                 6\n",
       "3         Carded blister pack  Non-recyclable                 6\n",
       "4        Other plastic bottle         Plastic                 1\n",
       "5        Clear plastic bottle         Plastic                 1\n",
       "6                Glass bottle           Glass                 2\n",
       "7          Plastic bottle cap         Plastic                 1\n",
       "8            Metal bottle cap           Metal                 3\n",
       "9                Broken glass           Glass                 2\n",
       "10                   Food Can  Non-recyclable                 6\n",
       "11                    Aerosol           Metal                 3\n",
       "12                  Drink can           Metal                 3\n",
       "13                Toilet tube           Paper                 0\n",
       "14               Other carton           Paper                 0\n",
       "15                 Egg carton           Paper                 0\n",
       "16               Drink carton           Paper                 0\n",
       "17          Corrugated carton           Paper                 0\n",
       "18                Meal carton           Paper                 0\n",
       "19                  Pizza box           Paper                 0\n",
       "20                  Paper cup           Paper                 0\n",
       "21     Disposable plastic cup         Plastic                 1\n",
       "22                   Foam cup  Non-recyclable                 6\n",
       "23                  Glass cup  Non-recyclable                 6\n",
       "24          Other plastic cup         Plastic                 1\n",
       "25                 Food waste         Organic                 4\n",
       "26                  Glass jar           Glass                 2\n",
       "27                Plastic lid         Plastic                 1\n",
       "28                  Metal lid           Metal                 3\n",
       "29              Other plastic         Plastic                 1\n",
       "30             Magazine paper           Paper                 0\n",
       "31                    Tissues  Non-recyclable                 6\n",
       "32             Wrapping paper           Paper                 0\n",
       "33               Normal paper           Paper                 0\n",
       "34                  Paper bag           Paper                 0\n",
       "35       Plastified paper bag  Non-recyclable                 6\n",
       "36               Plastic film         Plastic                 1\n",
       "37             Six pack rings         Plastic                 1\n",
       "38                Garbage bag  Non-recyclable                 6\n",
       "39      Other plastic wrapper         Plastic                 1\n",
       "40     Single-use carrier bag         Plastic                 1\n",
       "41          Polypropylene bag  Non-recyclable                 6\n",
       "42               Crisp packet         Plastic                 1\n",
       "43                 Spread tub         Plastic                 1\n",
       "44                 Tupperware         Plastic                 1\n",
       "45  Disposable food container         Plastic                 1\n",
       "46        Foam food container  Non-recyclable                 6\n",
       "47    Other plastic container         Plastic                 1\n",
       "48            Plastic glooves         Plastic                 1\n",
       "49           Plastic utensils         Plastic                 1\n",
       "50                    Pop tab           Metal                 3\n",
       "51             Rope & strings  Non-recyclable                 6\n",
       "52                Scrap metal           Metal                 3\n",
       "53                       Shoe  Non-recyclable                 6\n",
       "54            Squeezable tube  Non-recyclable                 6\n",
       "55              Plastic straw         Plastic                 1\n",
       "56                Paper straw           Paper                 0\n",
       "57            Styrofoam piece  Non-recyclable                 6\n",
       "59                  Cigarette  Non-recyclable                 6"
      ]
     },
     "execution_count": 9,
     "metadata": {},
     "output_type": "execute_result"
    }
   ],
   "source": [
    "# Inspect final matching dictionary\n",
    "\n",
    "matching_dict"
   ]
  },
  {
   "cell_type": "code",
   "execution_count": 10,
   "metadata": {},
   "outputs": [],
   "source": [
    "# Drop final matching dictionary to excel\n",
    "\n",
    "pd.DataFrame(matching_dict).to_excel('../tables/taco_matching_dict.xlsx')"
   ]
  },
  {
   "cell_type": "code",
   "execution_count": 11,
   "metadata": {},
   "outputs": [
    {
     "data": {
      "text/plain": [
       "517"
      ]
     },
     "execution_count": 11,
     "metadata": {},
     "output_type": "execute_result"
    }
   ],
   "source": [
    "# Count number of images with category \"Unlabeled litter\" (category 58)\n",
    "\n",
    "count_unlabeled = 0\n",
    "\n",
    "for annotation in data_taco['annotations']:\n",
    "    if annotation['category_id'] == 58:\n",
    "        count_unlabeled += 1\n",
    "        \n",
    "count_unlabeled"
   ]
  },
  {
   "cell_type": "markdown",
   "metadata": {},
   "source": [
    "We have a total of 517 annotations that are unlabeled out of 4784 total. We will have to drop ~11% of the annotations."
   ]
  },
  {
   "cell_type": "code",
   "execution_count": 12,
   "metadata": {},
   "outputs": [],
   "source": [
    "# Make a copy of JSON to keep original version\n",
    "\n",
    "data_taco_new = copy.deepcopy(data_taco)"
   ]
  },
  {
   "cell_type": "code",
   "execution_count": 13,
   "metadata": {},
   "outputs": [],
   "source": [
    "# Dropping the \"Unlabeled litter\"\n",
    "\n",
    "for annotation in data_taco_new['annotations'][:]:\n",
    "    if annotation['category_id'] == 58:\n",
    "        data_taco_new['annotations'].remove(annotation)\n",
    "    else:\n",
    "        continue"
   ]
  },
  {
   "cell_type": "code",
   "execution_count": 14,
   "metadata": {},
   "outputs": [
    {
     "data": {
      "text/plain": [
       "4267"
      ]
     },
     "execution_count": 14,
     "metadata": {},
     "output_type": "execute_result"
    }
   ],
   "source": [
    "len(data_taco_new['annotations'])"
   ]
  },
  {
   "cell_type": "code",
   "execution_count": 15,
   "metadata": {},
   "outputs": [],
   "source": [
    "# Overwrite the \"categories\" list\n",
    "\n",
    "data_taco_new['categories'] = []\n",
    "\n",
    "for index, category in final_categories.items():\n",
    "    data_taco_new['categories'].append({\n",
    "        \"supercategory\": category,\n",
    "        \"id\": index,\n",
    "        \"name\": category\n",
    "    })"
   ]
  },
  {
   "cell_type": "code",
   "execution_count": 16,
   "metadata": {},
   "outputs": [],
   "source": [
    "# Iterate over copy and change category in \"annotations\"\n",
    "\n",
    "for annotation in data_taco_new['annotations']:\n",
    "    annotation_cat_id = annotation['category_id']\n",
    "    annotation['category_id'] = matching_dict[matching_dict.index == annotation_cat_id]['New category IDs'].item()\n"
   ]
  },
  {
   "cell_type": "code",
   "execution_count": 42,
   "metadata": {},
   "outputs": [
    {
     "data": {
      "text/plain": [
       "19"
      ]
     },
     "execution_count": 42,
     "metadata": {},
     "output_type": "execute_result"
    }
   ],
   "source": [
    "# Check images not being used anymore after removing annotations\n",
    "\n",
    "list_image_ids = []\n",
    "\n",
    "for x in  range(len(data_taco_new['annotations'])):\n",
    "    list_image_ids.append(data_taco_new['annotations'][x]['image_id'])\n",
    "\n",
    "list_image_ids = set(list_image_ids)\n",
    "\n",
    "missing_images_ids = [ele for ele in range(max(list_image_ids)+1) if ele not in list_image_ids]\n",
    "\n",
    "len(missing_images_ids)"
   ]
  },
  {
   "cell_type": "markdown",
   "metadata": {},
   "source": [
    "A total of 19 images will be ignored out of 1.500 because they only have \"unlabeled litters\" as annotations."
   ]
  },
  {
   "cell_type": "code",
   "execution_count": 18,
   "metadata": {},
   "outputs": [],
   "source": [
    "# Drop final JSON file with new category IDs\n",
    "\n",
    "with open(\"../data/TACO/annotations_new.json\", \"w\") as outfile:\n",
    "    json.dump(data_taco_new, outfile)"
   ]
  },
  {
   "cell_type": "markdown",
   "metadata": {},
   "source": [
    "## Change annotations to 7 categories (Drinking Waste Classification)"
   ]
  },
  {
   "cell_type": "markdown",
   "metadata": {},
   "source": [
    "We will use the `fiftyone` library in order to convert from YOLO format to COCO format. \n",
    "\n",
    "We will use the COCO format as our source of truth before converting to TFRecord for feeding into the Tensorflow API."
   ]
  },
  {
   "cell_type": "code",
   "execution_count": 19,
   "metadata": {},
   "outputs": [
    {
     "ename": "SyntaxError",
     "evalue": "invalid syntax (2004752346.py, line 3)",
     "output_type": "error",
     "traceback": [
      "\u001b[0;36m  Cell \u001b[0;32mIn [19], line 3\u001b[0;36m\u001b[0m\n\u001b[0;31m    fiftyone convert \\\u001b[0m\n\u001b[0m             ^\u001b[0m\n\u001b[0;31mSyntaxError\u001b[0m\u001b[0;31m:\u001b[0m invalid syntax\n"
     ]
    }
   ],
   "source": [
    "# CLI commands to run to convert from YOLO (V.4) to COCO\n",
    "\n",
    "fiftyone convert \\\n",
    "            --input-dir data/Drinking_Waste_Classification \\\n",
    "            --input-type fiftyone.types.YOLOv4Dataset \\\n",
    "            --output-dir data/Drinking_Waste_Classification_COCO \\\n",
    "            --output-type fiftyone.types.COCODetectionDataset"
   ]
  },
  {
   "cell_type": "markdown",
   "metadata": {},
   "source": [
    "## Visualize final data histogram"
   ]
  },
  {
   "cell_type": "markdown",
   "metadata": {},
   "source": [
    "### TACO dataset"
   ]
  },
  {
   "cell_type": "code",
   "execution_count": 20,
   "metadata": {},
   "outputs": [],
   "source": [
    "with open('../data/TACO/annotations_new.json') as f:\n",
    "    final_annotations = json.load(f)\n",
    "\n",
    "\n",
    "list_cat_ids = []\n",
    "list_categories = []\n",
    "\n",
    "for annotation in final_annotations['annotations']:\n",
    "    list_cat_ids.append(annotation['category_id'])\n",
    "\n",
    "for annot in list_cat_ids:\n",
    "    list_categories.append(final_categories[annot])\n",
    "\n",
    "list_cat_ids = pd.DataFrame(list_cat_ids, columns=['List IDs'])\n",
    "list_categories = pd.DataFrame(list_categories, columns=['List categories'])\n",
    "\n",
    "hist_categories = pd.concat([list_cat_ids,list_categories], axis=1)\n",
    "\n"
   ]
  },
  {
   "cell_type": "code",
   "execution_count": 21,
   "metadata": {},
   "outputs": [
    {
     "data": {
      "text/plain": [
       "<AxesSubplot:xlabel='Count', ylabel='List categories'>"
      ]
     },
     "execution_count": 21,
     "metadata": {},
     "output_type": "execute_result"
    },
    {
     "data": {
      "image/png": "[encoded data removed]",
      "text/plain": [
       "<Figure size 640x480 with 1 Axes>"
      ]
     },
     "metadata": {},
     "output_type": "display_data"
    }
   ],
   "source": [
    "sns.histplot(data=hist_categories, y='List categories')"
   ]
  },
  {
   "cell_type": "code",
   "execution_count": 22,
   "metadata": {},
   "outputs": [
    {
     "data": {
      "text/plain": [
       "Plastic           2071\n",
       "Non-recyclable    1035\n",
       "Paper              455\n",
       "Metal              448\n",
       "Glass              248\n",
       "Organic              8\n",
       "E-Waste              2\n",
       "Name: List categories, dtype: int64"
      ]
     },
     "execution_count": 22,
     "metadata": {},
     "output_type": "execute_result"
    }
   ],
   "source": [
    "hist_categories['List categories'].value_counts()"
   ]
  },
  {
   "cell_type": "markdown",
   "metadata": {},
   "source": [
    "We have a clear class inbalance with the following classes having very few annotations:\n",
    "- Organic (only 8)\n",
    "- E-Waste (only 2)\n",
    "\n",
    "And the following classes with few annotations (< 1000):\n",
    "- Glass\n",
    "- Metal\n",
    "- Paper\n"
   ]
  },
  {
   "cell_type": "markdown",
   "metadata": {},
   "source": [
    "### Drinking Waste Classification"
   ]
  },
  {
   "cell_type": "markdown",
   "metadata": {},
   "source": [
    "### Drinking Waste Classification"
   ]
  }
 ],
 "metadata": {
  "kernelspec": {
   "display_name": "Python 3.8.12 64-bit ('trash_detector_wall-e')",
   "language": "python",
   "name": "python3"
  },
  "language_info": {
   "codemirror_mode": {
    "name": "ipython",
    "version": 3
   },
   "file_extension": ".py",
   "mimetype": "text/x-python",
   "name": "python",
   "nbconvert_exporter": "python",
   "pygments_lexer": "ipython3",
   "version": "3.8.12"
  },
  "orig_nbformat": 4,
  "vscode": {
   "interpreter": {
    "hash": "a9005b8f1337cfce9ec6fa0492a6417dcf5d256ddeac4739f2e09b90b3753a40"
   }
  }
 },
 "nbformat": 4,
 "nbformat_minor": 2
}
