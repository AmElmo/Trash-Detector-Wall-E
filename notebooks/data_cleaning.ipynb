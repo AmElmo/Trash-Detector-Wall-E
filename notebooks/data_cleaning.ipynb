{
 "cells": [
  {
   "cell_type": "markdown",
   "metadata": {},
   "source": [
    "## Imports"
   ]
  },
  {
   "cell_type": "code",
   "execution_count": 4,
   "metadata": {},
   "outputs": [],
   "source": [
    "import json\n",
    "import pandas as pd\n",
    "import copy\n",
    "import matplotlib as plt\n",
    "import seaborn as sns\n",
    "import glob\n",
    "import fiftyone\n",
    "\n",
    "import re\n",
    "import os"
   ]
  },
  {
   "cell_type": "markdown",
   "metadata": {},
   "source": [
    "## TACO dataset cleaning"
   ]
  },
  {
   "cell_type": "code",
   "execution_count": 2,
   "metadata": {},
   "outputs": [],
   "source": [
    "# Load JSON\n",
    "\n",
    "with open('../data/TACO/annotations.json') as f:\n",
    "    data_taco = json.load(f)"
   ]
  },
  {
   "cell_type": "code",
   "execution_count": 3,
   "metadata": {},
   "outputs": [],
   "source": [
    "# Pull dictionary of categories (60)\n",
    "\n",
    "dict_taco = {}\n",
    "\n",
    "for x in range(60):\n",
    "    id = data_taco['categories'][x]['id']\n",
    "    name = data_taco['categories'][x]['name']\n",
    "    dict_taco[id] = name"
   ]
  },
  {
   "cell_type": "code",
   "execution_count": 6,
   "metadata": {},
   "outputs": [],
   "source": [
    "# Instantiate new dictionary of 5 categories\n",
    "\n",
    "final_categories = {\n",
    "    0: 'Paper',\n",
    "    1: 'Plastic',\n",
    "    2: 'Glass',\n",
    "    3: 'Metal',\n",
    "    4: 'Organic',\n",
    "    5: 'E-Waste',\n",
    "    6: 'Non-recyclable'\n",
    "}"
   ]
  },
  {
   "cell_type": "code",
   "execution_count": 5,
   "metadata": {},
   "outputs": [],
   "source": [
    "# Create new mapping between categories\n",
    "\n",
    "unique_cat_taco = list(dict_taco.values())\n",
    "unique_cat_ids = set(key for key, val in dict_taco.items())\n",
    "\n",
    "matching_cat_final = [\n",
    "'Non-recyclable',\n",
    "'E-Waste',\n",
    "'Non-recyclable',\n",
    "'Non-recyclable',\n",
    "'Plastic',\n",
    "'Plastic',\n",
    "'Glass',\n",
    "'Plastic',\n",
    "'Metal',\n",
    "'Glass',\n",
    "'Non-recyclable',\n",
    "'Metal',\n",
    "'Metal',\n",
    "'Paper',\n",
    "'Paper',\n",
    "'Paper',\n",
    "'Paper',\n",
    "'Paper',\n",
    "'Paper',\n",
    "'Paper',\n",
    "'Paper',\n",
    "'Plastic',\n",
    "'Non-recyclable',\n",
    "'Non-recyclable',\n",
    "'Plastic',\n",
    "'Organic',\n",
    "'Glass',\n",
    "'Plastic',\n",
    "'Metal',\n",
    "'Plastic',\n",
    "'Paper',\n",
    "'Non-recyclable',\n",
    "'Paper',\n",
    "'Paper',\n",
    "'Paper',\n",
    "'Non-recyclable',\n",
    "'Plastic',\n",
    "'Plastic',\n",
    "'Non-recyclable',\n",
    "'Plastic',\n",
    "'Plastic',\n",
    "'Non-recyclable',\n",
    "'Plastic',\n",
    "'Plastic',\n",
    "'Plastic',\n",
    "'Plastic',\n",
    "'Non-recyclable',\n",
    "'Plastic',\n",
    "'Plastic',\n",
    "'Plastic',\n",
    "'Metal',\n",
    "'Non-recyclable',\n",
    "'Metal',\n",
    "'Non-recyclable',\n",
    "'Non-recyclable',\n",
    "'Plastic',\n",
    "'Paper',\n",
    "'Non-recyclable',\n",
    "'!!! Remove !!!',\n",
    "'Non-recyclable'\n",
    "]\n",
    "\n"
   ]
  },
  {
   "cell_type": "code",
   "execution_count": 6,
   "metadata": {},
   "outputs": [],
   "source": [
    "# Concatenate to Dataframe\n",
    "\n",
    "unique_cat_taco = pd.DataFrame(unique_cat_taco, columns=['Taco category'])\n",
    "\n",
    "matching_cat_final = pd.DataFrame(matching_cat_final, columns=['New category'])\n",
    "\n",
    "matching_dict = pd.concat([unique_cat_taco, matching_cat_final], axis=1)\n"
   ]
  },
  {
   "cell_type": "code",
   "execution_count": 7,
   "metadata": {},
   "outputs": [],
   "source": [
    "# Get list of IDs from original list\n",
    "\n",
    "list_ids = []\n",
    "\n",
    "for category in matching_dict['New category']:\n",
    "    id = dict((new_val,new_k) for new_k,new_val in final_categories.items()).get(category)\n",
    "    list_ids.append(id)\n",
    "    \n",
    "list_ids = pd.DataFrame(list_ids, columns=['New category IDs'])\n",
    "\n",
    "# Concatenate to main dataframe\n",
    "\n",
    "matching_dict = pd.concat([matching_dict,list_ids], axis=1)"
   ]
  },
  {
   "cell_type": "code",
   "execution_count": 8,
   "metadata": {},
   "outputs": [],
   "source": [
    "# Remove the \"Unlabeled litter\"\n",
    "\n",
    "matching_dict = matching_dict.drop(labels=58, axis=0)\n",
    "\n",
    "# Convert floats to int32\n",
    "\n",
    "matching_dict = matching_dict.astype({'New category IDs': int})\n"
   ]
  },
  {
   "cell_type": "code",
   "execution_count": 9,
   "metadata": {},
   "outputs": [
    {
     "data": {
      "text/html": [
       "<div>\n",
       "<style scoped>\n",
       "    .dataframe tbody tr th:only-of-type {\n",
       "        vertical-align: middle;\n",
       "    }\n",
       "\n",
       "    .dataframe tbody tr th {\n",
       "        vertical-align: top;\n",
       "    }\n",
       "\n",
       "    .dataframe thead th {\n",
       "        text-align: right;\n",
       "    }\n",
       "</style>\n",
       "<table border=\"1\" class=\"dataframe\">\n",
       "  <thead>\n",
       "    <tr style=\"text-align: right;\">\n",
       "      <th></th>\n",
       "      <th>Taco category</th>\n",
       "      <th>New category</th>\n",
       "      <th>New category IDs</th>\n",
       "    </tr>\n",
       "  </thead>\n",
       "  <tbody>\n",
       "    <tr>\n",
       "      <th>0</th>\n",
       "      <td>Aluminium foil</td>\n",
       "      <td>Non-recyclable</td>\n",
       "      <td>6</td>\n",
       "    </tr>\n",
       "    <tr>\n",
       "      <th>1</th>\n",
       "      <td>Battery</td>\n",
       "      <td>E-Waste</td>\n",
       "      <td>5</td>\n",
       "    </tr>\n",
       "    <tr>\n",
       "      <th>2</th>\n",
       "      <td>Aluminium blister pack</td>\n",
       "      <td>Non-recyclable</td>\n",
       "      <td>6</td>\n",
       "    </tr>\n",
       "    <tr>\n",
       "      <th>3</th>\n",
       "      <td>Carded blister pack</td>\n",
       "      <td>Non-recyclable</td>\n",
       "      <td>6</td>\n",
       "    </tr>\n",
       "    <tr>\n",
       "      <th>4</th>\n",
       "      <td>Other plastic bottle</td>\n",
       "      <td>Plastic</td>\n",
       "      <td>1</td>\n",
       "    </tr>\n",
       "    <tr>\n",
       "      <th>5</th>\n",
       "      <td>Clear plastic bottle</td>\n",
       "      <td>Plastic</td>\n",
       "      <td>1</td>\n",
       "    </tr>\n",
       "    <tr>\n",
       "      <th>6</th>\n",
       "      <td>Glass bottle</td>\n",
       "      <td>Glass</td>\n",
       "      <td>2</td>\n",
       "    </tr>\n",
       "    <tr>\n",
       "      <th>7</th>\n",
       "      <td>Plastic bottle cap</td>\n",
       "      <td>Plastic</td>\n",
       "      <td>1</td>\n",
       "    </tr>\n",
       "    <tr>\n",
       "      <th>8</th>\n",
       "      <td>Metal bottle cap</td>\n",
       "      <td>Metal</td>\n",
       "      <td>3</td>\n",
       "    </tr>\n",
       "    <tr>\n",
       "      <th>9</th>\n",
       "      <td>Broken glass</td>\n",
       "      <td>Glass</td>\n",
       "      <td>2</td>\n",
       "    </tr>\n",
       "    <tr>\n",
       "      <th>10</th>\n",
       "      <td>Food Can</td>\n",
       "      <td>Non-recyclable</td>\n",
       "      <td>6</td>\n",
       "    </tr>\n",
       "    <tr>\n",
       "      <th>11</th>\n",
       "      <td>Aerosol</td>\n",
       "      <td>Metal</td>\n",
       "      <td>3</td>\n",
       "    </tr>\n",
       "    <tr>\n",
       "      <th>12</th>\n",
       "      <td>Drink can</td>\n",
       "      <td>Metal</td>\n",
       "      <td>3</td>\n",
       "    </tr>\n",
       "    <tr>\n",
       "      <th>13</th>\n",
       "      <td>Toilet tube</td>\n",
       "      <td>Paper</td>\n",
       "      <td>0</td>\n",
       "    </tr>\n",
       "    <tr>\n",
       "      <th>14</th>\n",
       "      <td>Other carton</td>\n",
       "      <td>Paper</td>\n",
       "      <td>0</td>\n",
       "    </tr>\n",
       "    <tr>\n",
       "      <th>15</th>\n",
       "      <td>Egg carton</td>\n",
       "      <td>Paper</td>\n",
       "      <td>0</td>\n",
       "    </tr>\n",
       "    <tr>\n",
       "      <th>16</th>\n",
       "      <td>Drink carton</td>\n",
       "      <td>Paper</td>\n",
       "      <td>0</td>\n",
       "    </tr>\n",
       "    <tr>\n",
       "      <th>17</th>\n",
       "      <td>Corrugated carton</td>\n",
       "      <td>Paper</td>\n",
       "      <td>0</td>\n",
       "    </tr>\n",
       "    <tr>\n",
       "      <th>18</th>\n",
       "      <td>Meal carton</td>\n",
       "      <td>Paper</td>\n",
       "      <td>0</td>\n",
       "    </tr>\n",
       "    <tr>\n",
       "      <th>19</th>\n",
       "      <td>Pizza box</td>\n",
       "      <td>Paper</td>\n",
       "      <td>0</td>\n",
       "    </tr>\n",
       "    <tr>\n",
       "      <th>20</th>\n",
       "      <td>Paper cup</td>\n",
       "      <td>Paper</td>\n",
       "      <td>0</td>\n",
       "    </tr>\n",
       "    <tr>\n",
       "      <th>21</th>\n",
       "      <td>Disposable plastic cup</td>\n",
       "      <td>Plastic</td>\n",
       "      <td>1</td>\n",
       "    </tr>\n",
       "    <tr>\n",
       "      <th>22</th>\n",
       "      <td>Foam cup</td>\n",
       "      <td>Non-recyclable</td>\n",
       "      <td>6</td>\n",
       "    </tr>\n",
       "    <tr>\n",
       "      <th>23</th>\n",
       "      <td>Glass cup</td>\n",
       "      <td>Non-recyclable</td>\n",
       "      <td>6</td>\n",
       "    </tr>\n",
       "    <tr>\n",
       "      <th>24</th>\n",
       "      <td>Other plastic cup</td>\n",
       "      <td>Plastic</td>\n",
       "      <td>1</td>\n",
       "    </tr>\n",
       "    <tr>\n",
       "      <th>25</th>\n",
       "      <td>Food waste</td>\n",
       "      <td>Organic</td>\n",
       "      <td>4</td>\n",
       "    </tr>\n",
       "    <tr>\n",
       "      <th>26</th>\n",
       "      <td>Glass jar</td>\n",
       "      <td>Glass</td>\n",
       "      <td>2</td>\n",
       "    </tr>\n",
       "    <tr>\n",
       "      <th>27</th>\n",
       "      <td>Plastic lid</td>\n",
       "      <td>Plastic</td>\n",
       "      <td>1</td>\n",
       "    </tr>\n",
       "    <tr>\n",
       "      <th>28</th>\n",
       "      <td>Metal lid</td>\n",
       "      <td>Metal</td>\n",
       "      <td>3</td>\n",
       "    </tr>\n",
       "    <tr>\n",
       "      <th>29</th>\n",
       "      <td>Other plastic</td>\n",
       "      <td>Plastic</td>\n",
       "      <td>1</td>\n",
       "    </tr>\n",
       "    <tr>\n",
       "      <th>30</th>\n",
       "      <td>Magazine paper</td>\n",
       "      <td>Paper</td>\n",
       "      <td>0</td>\n",
       "    </tr>\n",
       "    <tr>\n",
       "      <th>31</th>\n",
       "      <td>Tissues</td>\n",
       "      <td>Non-recyclable</td>\n",
       "      <td>6</td>\n",
       "    </tr>\n",
       "    <tr>\n",
       "      <th>32</th>\n",
       "      <td>Wrapping paper</td>\n",
       "      <td>Paper</td>\n",
       "      <td>0</td>\n",
       "    </tr>\n",
       "    <tr>\n",
       "      <th>33</th>\n",
       "      <td>Normal paper</td>\n",
       "      <td>Paper</td>\n",
       "      <td>0</td>\n",
       "    </tr>\n",
       "    <tr>\n",
       "      <th>34</th>\n",
       "      <td>Paper bag</td>\n",
       "      <td>Paper</td>\n",
       "      <td>0</td>\n",
       "    </tr>\n",
       "    <tr>\n",
       "      <th>35</th>\n",
       "      <td>Plastified paper bag</td>\n",
       "      <td>Non-recyclable</td>\n",
       "      <td>6</td>\n",
       "    </tr>\n",
       "    <tr>\n",
       "      <th>36</th>\n",
       "      <td>Plastic film</td>\n",
       "      <td>Plastic</td>\n",
       "      <td>1</td>\n",
       "    </tr>\n",
       "    <tr>\n",
       "      <th>37</th>\n",
       "      <td>Six pack rings</td>\n",
       "      <td>Plastic</td>\n",
       "      <td>1</td>\n",
       "    </tr>\n",
       "    <tr>\n",
       "      <th>38</th>\n",
       "      <td>Garbage bag</td>\n",
       "      <td>Non-recyclable</td>\n",
       "      <td>6</td>\n",
       "    </tr>\n",
       "    <tr>\n",
       "      <th>39</th>\n",
       "      <td>Other plastic wrapper</td>\n",
       "      <td>Plastic</td>\n",
       "      <td>1</td>\n",
       "    </tr>\n",
       "    <tr>\n",
       "      <th>40</th>\n",
       "      <td>Single-use carrier bag</td>\n",
       "      <td>Plastic</td>\n",
       "      <td>1</td>\n",
       "    </tr>\n",
       "    <tr>\n",
       "      <th>41</th>\n",
       "      <td>Polypropylene bag</td>\n",
       "      <td>Non-recyclable</td>\n",
       "      <td>6</td>\n",
       "    </tr>\n",
       "    <tr>\n",
       "      <th>42</th>\n",
       "      <td>Crisp packet</td>\n",
       "      <td>Plastic</td>\n",
       "      <td>1</td>\n",
       "    </tr>\n",
       "    <tr>\n",
       "      <th>43</th>\n",
       "      <td>Spread tub</td>\n",
       "      <td>Plastic</td>\n",
       "      <td>1</td>\n",
       "    </tr>\n",
       "    <tr>\n",
       "      <th>44</th>\n",
       "      <td>Tupperware</td>\n",
       "      <td>Plastic</td>\n",
       "      <td>1</td>\n",
       "    </tr>\n",
       "    <tr>\n",
       "      <th>45</th>\n",
       "      <td>Disposable food container</td>\n",
       "      <td>Plastic</td>\n",
       "      <td>1</td>\n",
       "    </tr>\n",
       "    <tr>\n",
       "      <th>46</th>\n",
       "      <td>Foam food container</td>\n",
       "      <td>Non-recyclable</td>\n",
       "      <td>6</td>\n",
       "    </tr>\n",
       "    <tr>\n",
       "      <th>47</th>\n",
       "      <td>Other plastic container</td>\n",
       "      <td>Plastic</td>\n",
       "      <td>1</td>\n",
       "    </tr>\n",
       "    <tr>\n",
       "      <th>48</th>\n",
       "      <td>Plastic glooves</td>\n",
       "      <td>Plastic</td>\n",
       "      <td>1</td>\n",
       "    </tr>\n",
       "    <tr>\n",
       "      <th>49</th>\n",
       "      <td>Plastic utensils</td>\n",
       "      <td>Plastic</td>\n",
       "      <td>1</td>\n",
       "    </tr>\n",
       "    <tr>\n",
       "      <th>50</th>\n",
       "      <td>Pop tab</td>\n",
       "      <td>Metal</td>\n",
       "      <td>3</td>\n",
       "    </tr>\n",
       "    <tr>\n",
       "      <th>51</th>\n",
       "      <td>Rope &amp; strings</td>\n",
       "      <td>Non-recyclable</td>\n",
       "      <td>6</td>\n",
       "    </tr>\n",
       "    <tr>\n",
       "      <th>52</th>\n",
       "      <td>Scrap metal</td>\n",
       "      <td>Metal</td>\n",
       "      <td>3</td>\n",
       "    </tr>\n",
       "    <tr>\n",
       "      <th>53</th>\n",
       "      <td>Shoe</td>\n",
       "      <td>Non-recyclable</td>\n",
       "      <td>6</td>\n",
       "    </tr>\n",
       "    <tr>\n",
       "      <th>54</th>\n",
       "      <td>Squeezable tube</td>\n",
       "      <td>Non-recyclable</td>\n",
       "      <td>6</td>\n",
       "    </tr>\n",
       "    <tr>\n",
       "      <th>55</th>\n",
       "      <td>Plastic straw</td>\n",
       "      <td>Plastic</td>\n",
       "      <td>1</td>\n",
       "    </tr>\n",
       "    <tr>\n",
       "      <th>56</th>\n",
       "      <td>Paper straw</td>\n",
       "      <td>Paper</td>\n",
       "      <td>0</td>\n",
       "    </tr>\n",
       "    <tr>\n",
       "      <th>57</th>\n",
       "      <td>Styrofoam piece</td>\n",
       "      <td>Non-recyclable</td>\n",
       "      <td>6</td>\n",
       "    </tr>\n",
       "    <tr>\n",
       "      <th>59</th>\n",
       "      <td>Cigarette</td>\n",
       "      <td>Non-recyclable</td>\n",
       "      <td>6</td>\n",
       "    </tr>\n",
       "  </tbody>\n",
       "</table>\n",
       "</div>"
      ],
      "text/plain": [
       "                Taco category    New category  New category IDs\n",
       "0              Aluminium foil  Non-recyclable                 6\n",
       "1                     Battery         E-Waste                 5\n",
       "2      Aluminium blister pack  Non-recyclable                 6\n",
       "3         Carded blister pack  Non-recyclable                 6\n",
       "4        Other plastic bottle         Plastic                 1\n",
       "5        Clear plastic bottle         Plastic                 1\n",
       "6                Glass bottle           Glass                 2\n",
       "7          Plastic bottle cap         Plastic                 1\n",
       "8            Metal bottle cap           Metal                 3\n",
       "9                Broken glass           Glass                 2\n",
       "10                   Food Can  Non-recyclable                 6\n",
       "11                    Aerosol           Metal                 3\n",
       "12                  Drink can           Metal                 3\n",
       "13                Toilet tube           Paper                 0\n",
       "14               Other carton           Paper                 0\n",
       "15                 Egg carton           Paper                 0\n",
       "16               Drink carton           Paper                 0\n",
       "17          Corrugated carton           Paper                 0\n",
       "18                Meal carton           Paper                 0\n",
       "19                  Pizza box           Paper                 0\n",
       "20                  Paper cup           Paper                 0\n",
       "21     Disposable plastic cup         Plastic                 1\n",
       "22                   Foam cup  Non-recyclable                 6\n",
       "23                  Glass cup  Non-recyclable                 6\n",
       "24          Other plastic cup         Plastic                 1\n",
       "25                 Food waste         Organic                 4\n",
       "26                  Glass jar           Glass                 2\n",
       "27                Plastic lid         Plastic                 1\n",
       "28                  Metal lid           Metal                 3\n",
       "29              Other plastic         Plastic                 1\n",
       "30             Magazine paper           Paper                 0\n",
       "31                    Tissues  Non-recyclable                 6\n",
       "32             Wrapping paper           Paper                 0\n",
       "33               Normal paper           Paper                 0\n",
       "34                  Paper bag           Paper                 0\n",
       "35       Plastified paper bag  Non-recyclable                 6\n",
       "36               Plastic film         Plastic                 1\n",
       "37             Six pack rings         Plastic                 1\n",
       "38                Garbage bag  Non-recyclable                 6\n",
       "39      Other plastic wrapper         Plastic                 1\n",
       "40     Single-use carrier bag         Plastic                 1\n",
       "41          Polypropylene bag  Non-recyclable                 6\n",
       "42               Crisp packet         Plastic                 1\n",
       "43                 Spread tub         Plastic                 1\n",
       "44                 Tupperware         Plastic                 1\n",
       "45  Disposable food container         Plastic                 1\n",
       "46        Foam food container  Non-recyclable                 6\n",
       "47    Other plastic container         Plastic                 1\n",
       "48            Plastic glooves         Plastic                 1\n",
       "49           Plastic utensils         Plastic                 1\n",
       "50                    Pop tab           Metal                 3\n",
       "51             Rope & strings  Non-recyclable                 6\n",
       "52                Scrap metal           Metal                 3\n",
       "53                       Shoe  Non-recyclable                 6\n",
       "54            Squeezable tube  Non-recyclable                 6\n",
       "55              Plastic straw         Plastic                 1\n",
       "56                Paper straw           Paper                 0\n",
       "57            Styrofoam piece  Non-recyclable                 6\n",
       "59                  Cigarette  Non-recyclable                 6"
      ]
     },
     "execution_count": 9,
     "metadata": {},
     "output_type": "execute_result"
    }
   ],
   "source": [
    "# Inspect final matching dictionary\n",
    "\n",
    "matching_dict"
   ]
  },
  {
   "cell_type": "code",
   "execution_count": 10,
   "metadata": {},
   "outputs": [],
   "source": [
    "# Drop final matching dictionary to excel\n",
    "\n",
    "pd.DataFrame(matching_dict).to_excel('../tables/taco_matching_dict.xlsx')"
   ]
  },
  {
   "cell_type": "code",
   "execution_count": 11,
   "metadata": {},
   "outputs": [
    {
     "data": {
      "text/plain": [
       "517"
      ]
     },
     "execution_count": 11,
     "metadata": {},
     "output_type": "execute_result"
    }
   ],
   "source": [
    "# Count number of images with category \"Unlabeled litter\" (category 58)\n",
    "\n",
    "count_unlabeled = 0\n",
    "\n",
    "for annotation in data_taco['annotations']:\n",
    "    if annotation['category_id'] == 58:\n",
    "        count_unlabeled += 1\n",
    "        \n",
    "count_unlabeled"
   ]
  },
  {
   "cell_type": "markdown",
   "metadata": {},
   "source": [
    "We have a total of 517 annotations that are unlabeled out of 4784 total. We will have to drop ~11% of the annotations."
   ]
  },
  {
   "cell_type": "code",
   "execution_count": 12,
   "metadata": {},
   "outputs": [],
   "source": [
    "# Make a copy of JSON to keep original version\n",
    "\n",
    "data_taco_new = copy.deepcopy(data_taco)"
   ]
  },
  {
   "cell_type": "code",
   "execution_count": 13,
   "metadata": {},
   "outputs": [],
   "source": [
    "# Dropping the \"Unlabeled litter\"\n",
    "\n",
    "for annotation in data_taco_new['annotations'][:]:\n",
    "    if annotation['category_id'] == 58:\n",
    "        data_taco_new['annotations'].remove(annotation)\n",
    "    else:\n",
    "        continue"
   ]
  },
  {
   "cell_type": "code",
   "execution_count": 14,
   "metadata": {},
   "outputs": [
    {
     "data": {
      "text/plain": [
       "4267"
      ]
     },
     "execution_count": 14,
     "metadata": {},
     "output_type": "execute_result"
    }
   ],
   "source": [
    "len(data_taco_new['annotations'])"
   ]
  },
  {
   "cell_type": "code",
   "execution_count": 15,
   "metadata": {},
   "outputs": [],
   "source": [
    "# Overwrite the \"categories\" list\n",
    "\n",
    "data_taco_new['categories'] = []\n",
    "\n",
    "for index, category in final_categories.items():\n",
    "    data_taco_new['categories'].append({\n",
    "        \"supercategory\": category,\n",
    "        \"id\": index,\n",
    "        \"name\": category\n",
    "    })"
   ]
  },
  {
   "cell_type": "code",
   "execution_count": 16,
   "metadata": {},
   "outputs": [],
   "source": [
    "# Iterate over copy and change category in \"annotations\"\n",
    "\n",
    "for annotation in data_taco_new['annotations']:\n",
    "    annotation_cat_id = annotation['category_id']\n",
    "    annotation['category_id'] = matching_dict[matching_dict.index == annotation_cat_id]['New category IDs'].item()\n"
   ]
  },
  {
   "cell_type": "code",
   "execution_count": 17,
   "metadata": {},
   "outputs": [
    {
     "data": {
      "text/plain": [
       "19"
      ]
     },
     "execution_count": 17,
     "metadata": {},
     "output_type": "execute_result"
    }
   ],
   "source": [
    "# Check images not being used anymore after removing annotations\n",
    "\n",
    "list_image_ids = []\n",
    "\n",
    "for x in  range(len(data_taco_new['annotations'])):\n",
    "    list_image_ids.append(data_taco_new['annotations'][x]['image_id'])\n",
    "\n",
    "list_image_ids = set(list_image_ids)\n",
    "\n",
    "missing_images_ids = [ele for ele in range(max(list_image_ids)+1) if ele not in list_image_ids]\n",
    "\n",
    "len(missing_images_ids)"
   ]
  },
  {
   "cell_type": "markdown",
   "metadata": {},
   "source": [
    "A total of 19 images will be ignored out of 1.500 because they only have \"unlabeled litters\" as annotations."
   ]
  },
  {
   "cell_type": "code",
   "execution_count": 18,
   "metadata": {},
   "outputs": [],
   "source": [
    "# Drop final JSON file with new category IDs\n",
    "\n",
    "with open(\"../data/TACO/annotations_new.json\", \"w\") as outfile:\n",
    "    json.dump(data_taco_new, outfile)"
   ]
  },
  {
   "cell_type": "markdown",
   "metadata": {},
   "source": [
    "## Drinking Waste Classification cleaning"
   ]
  },
  {
   "cell_type": "markdown",
   "metadata": {},
   "source": [
    "We will use the `fiftyone` library in order to convert from YOLO format to COCO format. \n",
    "\n",
    "We will use the COCO format as our source of truth before converting to TFRecord for feeding into the Tensorflow API."
   ]
  },
  {
   "cell_type": "code",
   "execution_count": 19,
   "metadata": {},
   "outputs": [
    {
     "ename": "SyntaxError",
     "evalue": "invalid syntax (1593425222.py, line 3)",
     "output_type": "error",
     "traceback": [
      "\u001b[0;36m  Cell \u001b[0;32mIn [19], line 3\u001b[0;36m\u001b[0m\n\u001b[0;31m    fiftyone convert \\\u001b[0m\n\u001b[0m             ^\u001b[0m\n\u001b[0;31mSyntaxError\u001b[0m\u001b[0;31m:\u001b[0m invalid syntax\n"
     ]
    }
   ],
   "source": [
    "# CLI commands to run to convert from YOLO (V.4) to COCO\n",
    "\n",
    "fiftyone convert \\\n",
    "            --input-dir data/Drinking_Waste_Classification \\\n",
    "            --input-type fiftyone.types.YOLOv4Dataset \\\n",
    "            --output-dir data/Drinking_Waste_Classification_COCO \\\n",
    "            --output-type fiftyone.types.COCODetectionDataset"
   ]
  },
  {
   "cell_type": "code",
   "execution_count": 28,
   "metadata": {},
   "outputs": [],
   "source": [
    "# Function to build the matching dictionary used to match categories between JSON files\n",
    "\n",
    "def build_matching_dictionary(json_path,list_matching_cat):\n",
    "    with open(json_path) as f:\n",
    "        data_drinking_class = json.load(f)\n",
    "    \n",
    "    # Instantiate lists\n",
    "    categories_drinking_class = []\n",
    "    list_ids = []\n",
    "    \n",
    "    # Build lists\n",
    "\n",
    "    for x in range(len(data_drinking_class['categories'])):\n",
    "        categories_drinking_class.append(data_drinking_class['categories'][x]['name'])\n",
    "\n",
    "\n",
    "    for category in list_matching_cat:\n",
    "        list_ids.append([int(k) for k, v in final_categories.items() if v == category][0])\n",
    "\n",
    "\n",
    "    # Concatenate into one central Dataframe\n",
    "\n",
    "    matching_cat_drinking_class = pd.DataFrame(list_matching_cat, columns=['Matching category name'])\n",
    "    categories_drinking_class = pd.DataFrame(categories_drinking_class, columns=['Original category name'])\n",
    "    list_ids = pd.DataFrame(list_ids,columns=['Matching Category ID'])\n",
    "\n",
    "    dict_drinking_class = pd.concat([categories_drinking_class, matching_cat_drinking_class, list_ids], axis=1)\n",
    "    \n",
    "    return dict_drinking_class"
   ]
  },
  {
   "cell_type": "code",
   "execution_count": 167,
   "metadata": {},
   "outputs": [
    {
     "data": {
      "text/html": [
       "<div>\n",
       "<style scoped>\n",
       "    .dataframe tbody tr th:only-of-type {\n",
       "        vertical-align: middle;\n",
       "    }\n",
       "\n",
       "    .dataframe tbody tr th {\n",
       "        vertical-align: top;\n",
       "    }\n",
       "\n",
       "    .dataframe thead th {\n",
       "        text-align: right;\n",
       "    }\n",
       "</style>\n",
       "<table border=\"1\" class=\"dataframe\">\n",
       "  <thead>\n",
       "    <tr style=\"text-align: right;\">\n",
       "      <th></th>\n",
       "      <th>Original category name</th>\n",
       "      <th>Matching category name</th>\n",
       "      <th>Matching Category ID</th>\n",
       "    </tr>\n",
       "  </thead>\n",
       "  <tbody>\n",
       "    <tr>\n",
       "      <th>0</th>\n",
       "      <td>Aluminium Cans</td>\n",
       "      <td>Metal</td>\n",
       "      <td>3</td>\n",
       "    </tr>\n",
       "    <tr>\n",
       "      <th>1</th>\n",
       "      <td>Glass bottles</td>\n",
       "      <td>Glass</td>\n",
       "      <td>2</td>\n",
       "    </tr>\n",
       "    <tr>\n",
       "      <th>2</th>\n",
       "      <td>HDPE (plastic) Milk bottles</td>\n",
       "      <td>Plastic</td>\n",
       "      <td>1</td>\n",
       "    </tr>\n",
       "    <tr>\n",
       "      <th>3</th>\n",
       "      <td>PET (plastic) bottles</td>\n",
       "      <td>Plastic</td>\n",
       "      <td>1</td>\n",
       "    </tr>\n",
       "  </tbody>\n",
       "</table>\n",
       "</div>"
      ],
      "text/plain": [
       "        Original category name Matching category name  Matching Category ID\n",
       "0               Aluminium Cans                  Metal                     3\n",
       "1                Glass bottles                  Glass                     2\n",
       "2  HDPE (plastic) Milk bottles                Plastic                     1\n",
       "3        PET (plastic) bottles                Plastic                     1"
      ]
     },
     "execution_count": 167,
     "metadata": {},
     "output_type": "execute_result"
    }
   ],
   "source": [
    "dict_drinking_class = build_matching_dictionary('../data/Drinking_Waste_Classification_COCO/labels.json',['Metal', 'Glass', 'Plastic', 'Plastic'])\n",
    "\n",
    "dict_drinking_class"
   ]
  },
  {
   "cell_type": "code",
   "execution_count": 22,
   "metadata": {},
   "outputs": [],
   "source": [
    "# Function to change categories for each annotations with matching ones\n",
    "\n",
    "def change_annotations(original_json_path,matching_dictionary):\n",
    "\n",
    "    # Open JSON file and make copy\n",
    "\n",
    "    with open(original_json_path) as f:\n",
    "        original_json = json.load(f)\n",
    "\n",
    "    new_json = copy.deepcopy(original_json)\n",
    "\n",
    "    # Iterate over copy and change category in \"annotations\"\n",
    "\n",
    "    for annotation in new_json['annotations']:\n",
    "        annotation_cat_id = annotation['category_id']\n",
    "        annotation['category_id'] = matching_dictionary[matching_dictionary.index == annotation_cat_id]['Matching Category ID'].item()\n",
    "\n",
    "    return new_json"
   ]
  },
  {
   "cell_type": "code",
   "execution_count": 169,
   "metadata": {},
   "outputs": [
    {
     "data": {
      "text/plain": [
       "{'id': 2501,\n",
       " 'image_id': 2329,\n",
       " 'category_id': 1,\n",
       " 'bbox': [277.0, 389.00000000000006, 145.0, 228.0],\n",
       " 'area': 33060.0,\n",
       " 'iscrowd': 0}"
      ]
     },
     "execution_count": 169,
     "metadata": {},
     "output_type": "execute_result"
    }
   ],
   "source": [
    "new_json = change_annotations(\"../data/Drinking_Waste_Classification_COCO/labels.json\",dict_drinking_class)"
   ]
  },
  {
   "cell_type": "code",
   "execution_count": 23,
   "metadata": {},
   "outputs": [],
   "source": [
    "# Function to overwrite the old categories with new ones\n",
    "\n",
    "def overwrite_categories(json_file,final_categories):\n",
    "    \n",
    "    json_file['categories'] = []\n",
    "\n",
    "    for index, category in final_categories.items():\n",
    "        json_file['categories'].append({\n",
    "            \"supercategory\": category,\n",
    "            \"id\": index,\n",
    "            \"name\": category\n",
    "    })\n",
    "        \n",
    "    return json_file"
   ]
  },
  {
   "cell_type": "code",
   "execution_count": 172,
   "metadata": {},
   "outputs": [],
   "source": [
    "final_json = overwrite_categories(new_json,final_categories)"
   ]
  },
  {
   "cell_type": "code",
   "execution_count": 24,
   "metadata": {},
   "outputs": [],
   "source": [
    "# Function to change image names to reflect new directory (\"batch_xx\")\n",
    "\n",
    "def change_image_names(json_file,batch_number):\n",
    "\n",
    "    for img in json_file[\"images\"]:\n",
    "        img['file_name'] = \"batch_\" + str(batch_number) + \"/\" + img['file_name']\n",
    "    \n",
    "    return json_file"
   ]
  },
  {
   "cell_type": "code",
   "execution_count": null,
   "metadata": {},
   "outputs": [],
   "source": [
    "final_json = change_image_names(final_json,16)"
   ]
  },
  {
   "cell_type": "code",
   "execution_count": 46,
   "metadata": {},
   "outputs": [],
   "source": [
    "# Drop final JSON file with new category IDs\n",
    "\n",
    "with open(\"../data/Drinking_Waste_Classification_COCO/labels_new.json\", \"w\") as outfile:\n",
    "    json.dump(final_json, outfile)"
   ]
  },
  {
   "cell_type": "markdown",
   "metadata": {},
   "source": [
    "## Fruit Detection + Fruit Images for Object Detection cleaning"
   ]
  },
  {
   "cell_type": "code",
   "execution_count": null,
   "metadata": {},
   "outputs": [],
   "source": [
    "# CLI command to convert Fruit_Detection to COCO\n",
    "\n",
    "fiftyone convert \\\n",
    "            --input-dir data/Fruit_Detection \\\n",
    "            --input-type fiftyone.types.VOCDetectionDataset \\\n",
    "            --output-dir data/Fruit_Detection_COCO \\\n",
    "            --output-type fiftyone.types.COCODetectionDataset"
   ]
  },
  {
   "cell_type": "code",
   "execution_count": null,
   "metadata": {},
   "outputs": [],
   "source": [
    "# Some images in Fruit_Images_for_Object_Detection have wrong labelling. \n",
    "# 👇 Script to remove images with width or height = 0\n",
    "\n",
    "# 1. List the label files in folder\n",
    "list_labels_path = glob.glob(\"../data/Fruit_Images_for_Object_Detection/labels/*\")\n",
    "\n",
    "# 2. Iterate over list with counter & delete files with width = 0\n",
    "\n",
    "labels_deleted_count = 0\n",
    "\n",
    "for path in list_labels_path:\n",
    "    with open(path, 'r') as f:\n",
    "        data = f.read()\n",
    "    result = re.search('<width>(.*)</width>', data)\n",
    "    width = int(result.group(1))\n",
    "    \n",
    "    if width == 0:\n",
    "        data_path = path.replace('labels/', 'data/').replace('.xml', '.jpg')\n",
    "        os.remove(path)\n",
    "        os.remove(data_path)\n",
    "        labels_deleted_count += 1\n",
    "\n",
    "    else:\n",
    "        continue\n",
    "\n",
    "print(\"Total annotations deleted:\" + labels_deleted_count)"
   ]
  },
  {
   "cell_type": "markdown",
   "metadata": {},
   "source": [
    "We had to deleted 37 annotations out of 300 (~12% of the dataset) because it had no width & height information. Making it impossible to convert to COCO format."
   ]
  },
  {
   "cell_type": "code",
   "execution_count": null,
   "metadata": {},
   "outputs": [],
   "source": [
    "# CLI commands to convert Fruit_Images_for_Object_Detection to COCO\n",
    "\n",
    "fiftyone convert \\\n",
    "            --input-dir data/Fruit_Images_for_Object_Detection \\\n",
    "            --input-type fiftyone.types.VOCDetectionDataset \\\n",
    "            --output-dir data/Fruit_Images_for_Object_Detection_COCO \\\n",
    "            --output-type fiftyone.types.COCODetectionDataset"
   ]
  },
  {
   "cell_type": "code",
   "execution_count": 182,
   "metadata": {},
   "outputs": [],
   "source": [
    "# New JSON for Fruit_Detection\n",
    "\n",
    "matching_dict = build_matching_dictionary('../data/Fruit_Detection_COCO/labels.json',['Organic','Organic','Organic','Organic'])\n",
    "\n",
    "new_json = change_annotations('../data/Fruit_Detection_COCO/labels.json',matching_dict)\n",
    "\n",
    "final_json = overwrite_categories(new_json,final_categories)\n",
    "\n",
    "final_json = change_image_names(final_json,17)\n",
    "\n",
    "# Drop final JSON file with new category IDs\n",
    "\n",
    "with open(\"../data/Fruit_Detection_COCO/labels_new.json\", \"w\") as outfile:\n",
    "    json.dump(final_json, outfile)"
   ]
  },
  {
   "cell_type": "code",
   "execution_count": 183,
   "metadata": {},
   "outputs": [],
   "source": [
    "# New JSON for Fruit_Images_for_Object_Detection\n",
    "\n",
    "matching_dict = build_matching_dictionary('../data/Fruit_Images_for_Object_Detection_COCO/labels.json',['Organic','Organic','Organic'])\n",
    "\n",
    "new_json = change_annotations('../data/Fruit_Images_for_Object_Detection_COCO/labels.json',matching_dict)\n",
    "\n",
    "final_json = overwrite_categories(new_json,final_categories)\n",
    "\n",
    "final_json = change_image_names(final_json,18)\n",
    "\n",
    "# Drop final JSON file with new category IDs\n",
    "\n",
    "with open(\"../data/Fruit_Images_for_Object_Detection_COCO/labels_new.json\", \"w\") as outfile:\n",
    "    json.dump(final_json, outfile)\n"
   ]
  },
  {
   "cell_type": "markdown",
   "metadata": {},
   "source": [
    "## Mobile Images Dataset cleaning"
   ]
  },
  {
   "cell_type": "code",
   "execution_count": null,
   "metadata": {},
   "outputs": [],
   "source": [
    "# Convert to COCO format\n",
    "\n",
    "fiftyone convert \\\n",
    "            --input-dir data/Mobile_Images_Dataset \\\n",
    "            --input-type fiftyone.types.VOCDetectionDataset \\\n",
    "            --output-dir data/Mobile_Images_Dataset_COCO \\\n",
    "            --output-type fiftyone.types.COCODetectionDataset"
   ]
  },
  {
   "cell_type": "code",
   "execution_count": 191,
   "metadata": {},
   "outputs": [],
   "source": [
    "# New JSON for Mobile_Images_Dataset\n",
    "\n",
    "matching_dict = build_matching_dictionary('../data/Mobile_Images_Dataset_COCO/labels.json',['E-Waste'])\n",
    "\n",
    "new_json = change_annotations('../data/Mobile_Images_Dataset_COCO/labels.json',matching_dict)\n",
    "\n",
    "final_json = overwrite_categories(new_json,final_categories)\n",
    "\n",
    "final_json = change_image_names(final_json,19)\n",
    "\n",
    "# Drop final JSON file with new category IDs\n",
    "\n",
    "with open(\"../data/Mobile_Images_Dataset_COCO/labels_new.json\", \"w\") as outfile:\n",
    "    json.dump(final_json, outfile)"
   ]
  },
  {
   "cell_type": "markdown",
   "metadata": {},
   "source": [
    "## Garbage Classification cleaning (paper + cardboard)"
   ]
  },
  {
   "cell_type": "code",
   "execution_count": 195,
   "metadata": {},
   "outputs": [],
   "source": [
    "# New JSON for Mobile_Images_Dataset\n",
    "\n",
    "matching_dict = build_matching_dictionary('../data/Garbage_Classification/annotations_coco.json',['Paper', 'Paper'])\n",
    "\n",
    "new_json = change_annotations('../data/Garbage_Classification/annotations_coco.json',matching_dict)\n",
    "\n",
    "final_json = overwrite_categories(new_json,final_categories)\n",
    "\n",
    "final_json = change_image_names(final_json,20)\n",
    "\n",
    "# Drop final JSON file with new category IDs\n",
    "\n",
    "with open(\"../data/Garbage_Classification/annotations_coco_new.json\", \"w\") as outfile:\n",
    "    json.dump(final_json, outfile)"
   ]
  },
  {
   "cell_type": "markdown",
   "metadata": {},
   "source": [
    "## Open Images cleaning (for E-Waste)"
   ]
  },
  {
   "cell_type": "markdown",
   "metadata": {},
   "source": [
    "We will pick the following classes from the 600 different classes available:\n",
    "- Computer keyboard\n",
    "- Computer monitor\n",
    "- Computer mouse\n",
    "- Tablet computer\n",
    "- Laptop\n",
    "- Camera\n",
    "- Television\n",
    "- Headphones\n",
    "- Microwage oven\n",
    "- Printer\n",
    "- Light bulb"
   ]
  },
  {
   "cell_type": "code",
   "execution_count": null,
   "metadata": {},
   "outputs": [],
   "source": [
    "dataset = fiftyone.zoo.load_zoo_dataset(\n",
    "              \"open-images-v6\",\n",
    "              split=\"validation\",\n",
    "              label_types=[\"detections\"],\n",
    "              classes=[\"Computer keyboard\", \"Computer monitor\", \"Computer mouse\", \"Tablet computer\", \"Headphones\", \"Laptop\", \"Camera\", \"Microwage oven\", \"Printer\", \"Television\", \"Light bulb\"]\n",
    "          )"
   ]
  },
  {
   "cell_type": "code",
   "execution_count": null,
   "metadata": {},
   "outputs": [],
   "source": [
    "dataset = fiftyone.zoo.load_zoo_dataset(\n",
    "              \"open-images-v6\",\n",
    "              split=\"test\",\n",
    "              label_types=[\"detections\"],\n",
    "              classes=[\"Computer keyboard\", \"Computer monitor\", \"Computer mouse\", \"Tablet computer\", \"Headphones\", \"Laptop\", \"Camera\", \"Microwage oven\", \"Printer\", \"Television\", \"Light bulb\"]\n",
    "          )"
   ]
  },
  {
   "cell_type": "code",
   "execution_count": 29,
   "metadata": {},
   "outputs": [],
   "source": [
    "# New JSON for Open_Images dataset (E-Waste)\n",
    "\n",
    "matching_dict = build_matching_dictionary('../data/Open_Images_E-Waste/annotations_coco.json',['E-Waste', 'E-Waste', 'E-Waste', 'E-Waste', 'E-Waste', 'E-Waste', 'E-Waste', 'E-Waste', 'E-Waste', 'E-Waste', 'E-Waste', 'E-Waste', 'E-Waste'])\n",
    "\n",
    "new_json = change_annotations('../data/Open_Images_E-Waste/annotations_coco.json',matching_dict)\n",
    "\n",
    "final_json = overwrite_categories(new_json,final_categories)\n",
    "\n",
    "final_json = change_image_names(final_json,21)\n",
    "\n",
    "# Drop final JSON file with new category IDs\n",
    "\n",
    "with open(\"../data/Open_Images_E-Waste/annotations_coco_new.json\", \"w\") as outfile:\n",
    "    json.dump(final_json, outfile)"
   ]
  },
  {
   "cell_type": "markdown",
   "metadata": {},
   "source": [
    "## Stitching together final dataset"
   ]
  },
  {
   "cell_type": "code",
   "execution_count": 148,
   "metadata": {},
   "outputs": [
    {
     "ename": "SyntaxError",
     "evalue": "invalid syntax (2255174747.py, line 4)",
     "output_type": "error",
     "traceback": [
      "\u001b[0;36m  Cell \u001b[0;32mIn [148], line 4\u001b[0;36m\u001b[0m\n\u001b[0;31m    cp -a data/TACO/ data/Final_Dataset\u001b[0m\n\u001b[0m          ^\u001b[0m\n\u001b[0;31mSyntaxError\u001b[0m\u001b[0;31m:\u001b[0m invalid syntax\n"
     ]
    }
   ],
   "source": [
    "# Migrate pics to new folders (CLI) for all datasets\n",
    "\n",
    "# TACO\n",
    "⬛️ cp -a data/TACO/ data/Final_Dataset\n",
    "\n",
    "⬛️ rm data/Final_Dataset/all_image_urls.csv data/Final_Dataset/annotations_new.json data/Final_Dataset/annotations_unofficial.json data/Final_Dataset/annotations.json\n",
    "\n",
    "# Drinking_Waste_Classification\n",
    "⬛️ mkdir data/Final_Dataset/batch_16\n",
    "\n",
    "⬛️ cp -a data/Drinking_Waste_Classification_COCO/data/ data/Final_Dataset/batch_16\n",
    "\n",
    "# Fruit_Detection\n",
    "⬛️ mkdir data/Final_Dataset/batch_17\n",
    "\n",
    "⬛️ cp -a data/Fruit_Detection_COCO/data/ data/Final_Dataset/batch_17\n",
    "\n",
    "# Fruit_Images_for_Object_Detection\n",
    "⬛️ mkdir data/Final_Dataset/batch_18\n",
    "\n",
    "⬛️ cp -a data/Fruit_Images_for_Object_Detection/data/ data/Final_Dataset/batch_18\n",
    "\n",
    "# Mobile_Images_Dataset\n",
    "\n",
    "⬛️ mkdir data/Final_Dataset/batch_19\n",
    "\n",
    "⬛️ cp -a data/Mobile_Images_Dataset_COCO/data/ data/Final_Dataset/batch_19\n",
    "\n",
    "# Garbage_Classification_Paper\n",
    "\n",
    "⬛️ mkdir data/Final_Dataset/batch_20\n",
    "\n",
    "⬛️ cp -a data/Garbage_Classification/data/ data/Final_Dataset/batch_20\n",
    "\n",
    "# Open_Images_E-Waste\n",
    "\n",
    "⬛️ mkdir data/Final_Dataset/batch_21\n",
    "\n",
    "⬛️ cp -a data/Open_Images_E-Waste/data/ data/Final_Dataset/batch_21"
   ]
  },
  {
   "cell_type": "code",
   "execution_count": 184,
   "metadata": {},
   "outputs": [
    {
     "ename": "SyntaxError",
     "evalue": "invalid character in identifier (2116763647.py, line 6)",
     "output_type": "error",
     "traceback": [
      "\u001b[0;36m  Cell \u001b[0;32mIn [184], line 6\u001b[0;36m\u001b[0m\n\u001b[0;31m    ⬛️ python merge.py '/Users/julienberthomier/code/AmElmo/Main_Projects/Trash Detector (Wall-E)/data/TACO/annotations_new.json''/Users/julienberthomier/code/AmElmo/Main_Projects/Trash Detector (Wall-E)/data/Drinking_Waste_Classification_COCO/labels_new.json' \\\u001b[0m\n\u001b[0m     ^\u001b[0m\n\u001b[0;31mSyntaxError\u001b[0m\u001b[0;31m:\u001b[0m invalid character in identifier\n"
     ]
    }
   ],
   "source": [
    "# Merge the two COCO files\n",
    "# We use a custom script available in the 'repos' folder called \"Merge_COCO_FIES\"\n",
    "\n",
    "# Command 👇\n",
    "\n",
    "⬛️ python merge.py '/Users/julienberthomier/code/AmElmo/Main_Projects/Trash Detector (Wall-E)/data/TACO/annotations_new.json' \\\n",
    "    '/Users/julienberthomier/code/AmElmo/Main_Projects/Trash Detector (Wall-E)/data/Drinking_Waste_Classification_COCO/labels_new.json' \\\n",
    "        '/Users/julienberthomier/code/AmElmo/Main_Projects/Trash Detector (Wall-E)/data/Final_Dataset/final_annotations_coco_V1.json'"
   ]
  },
  {
   "cell_type": "code",
   "execution_count": null,
   "metadata": {},
   "outputs": [],
   "source": [
    "\n",
    "# Final merging of COCO json files\n",
    "\n",
    "\n",
    "# Fruit Detection (for organic)\n",
    "\n",
    "⬛️ python merge.py '/Users/julienberthomier/code/AmElmo/Main_Projects/Trash Detector (Wall-E)/data/Final_Dataset/final_annotations_coco_V1.json' \\\n",
    "    '/Users/julienberthomier/code/AmElmo/Main_Projects/Trash Detector (Wall-E)/data/Fruit_Detection_COCO/labels_new.json' \\\n",
    "        '/Users/julienberthomier/code/AmElmo/Main_Projects/Trash Detector (Wall-E)/data/Final_Dataset/final_annotations_coco_V2.json'\n",
    "\n",
    "# Fruit Images for Object Detection (for organic)\n",
    "\n",
    "⬛️ python merge.py '/Users/julienberthomier/code/AmElmo/Main_Projects/Trash Detector (Wall-E)/data/Final_Dataset/final_annotations_coco_V2.json' \\\n",
    "    '/Users/julienberthomier/code/AmElmo/Main_Projects/Trash Detector (Wall-E)/data/Fruit_Images_for_Object_Detection_COCO/labels_new.json' \\\n",
    "        '/Users/julienberthomier/code/AmElmo/Main_Projects/Trash Detector (Wall-E)/data/Final_Dataset/final_annotations_coco_V3.json'\n",
    "\n",
    "\n",
    "# Mobile Images Dataset (for e-waste)\n",
    "\n",
    "⬛️ python merge.py '/Users/julienberthomier/code/AmElmo/Main_Projects/Trash Detector (Wall-E)/data/Final_Dataset/final_annotations_coco_V3.json' \\\n",
    "    '/Users/julienberthomier/code/AmElmo/Main_Projects/Trash Detector (Wall-E)/data/Mobile_Images_Dataset_COCO/labels_new.json' \\\n",
    "        '/Users/julienberthomier/code/AmElmo/Main_Projects/Trash Detector (Wall-E)/data/Final_Dataset/final_annotations_coco_V4.json'\n",
    "\n",
    "\n",
    "# Adding Garbage Classification (for paper + cardboard)\n",
    "\n",
    "⬛️ python merge.py '/Users/julienberthomier/code/AmElmo/Main_Projects/Trash Detector (Wall-E)/data/Final_Dataset/final_annotations_coco_V4.json' \\\n",
    "    '/Users/julienberthomier/code/AmElmo/Main_Projects/Trash Detector (Wall-E)/data/Garbage_Classification/annotations_coco_new.json' \\\n",
    "        '/Users/julienberthomier/code/AmElmo/Main_Projects/Trash Detector (Wall-E)/data/Final_Dataset/final_annotations_coco_V5.json'\n",
    "\n",
    "# Adding Open Images (for E-Waste)\n",
    "\n",
    "⬛️ python merge.py '/Users/julienberthomier/code/AmElmo/Main_Projects/Trash Detector (Wall-E)/data/Final_Dataset/final_annotations_coco_V5.json' \\\n",
    "    '/Users/julienberthomier/code/AmElmo/Main_Projects/Trash Detector (Wall-E)/data/Open_Images_E-Waste/annotations_coco_new.json' \\\n",
    "        '/Users/julienberthomier/code/AmElmo/Main_Projects/Trash Detector (Wall-E)/data/Final_Dataset/final_annotations_coco_V6.json'"
   ]
  },
  {
   "cell_type": "markdown",
   "metadata": {},
   "source": [
    "## Visualize final data histogram"
   ]
  },
  {
   "cell_type": "code",
   "execution_count": 2,
   "metadata": {},
   "outputs": [],
   "source": [
    "# Create main functions for class distribution\n",
    "\n",
    "def draw_class_distribution(file_path):\n",
    "    with open(file_path) as f:\n",
    "        final_annotations = json.load(f)\n",
    "\n",
    "    list_cat_ids = []\n",
    "    list_categories = []\n",
    "\n",
    "    for annotation in final_annotations['annotations']:\n",
    "        list_cat_ids.append(annotation['category_id'])\n",
    "\n",
    "    for annot in list_cat_ids:\n",
    "        list_categories.append(final_categories[annot])\n",
    "\n",
    "    list_cat_ids = pd.DataFrame(list_cat_ids, columns=['List IDs'])\n",
    "    list_categories = pd.DataFrame(list_categories, columns=['List categories'])\n",
    "\n",
    "    hist_categories = pd.concat([list_cat_ids,list_categories], axis=1)\n",
    "    \n",
    "    return sns.histplot(data=hist_categories, y='List categories')\n",
    "\n",
    "def build_table_distribution(file_path):\n",
    "    with open(file_path) as f:\n",
    "        final_annotations = json.load(f)\n",
    "\n",
    "    list_cat_ids = []\n",
    "    list_categories = []\n",
    "\n",
    "    for annotation in final_annotations['annotations']:\n",
    "        list_cat_ids.append(annotation['category_id'])\n",
    "\n",
    "    for annot in list_cat_ids:\n",
    "        list_categories.append(final_categories[annot])\n",
    "\n",
    "    list_cat_ids = pd.DataFrame(list_cat_ids, columns=['List IDs'])\n",
    "    list_categories = pd.DataFrame(list_categories, columns=['List categories'])\n",
    "\n",
    "    hist_categories = pd.concat([list_cat_ids,list_categories], axis=1)\n",
    "    \n",
    "    return hist_categories['List categories'].value_counts()\n",
    "\n",
    "def build_table_distribution_normalize(file_path):\n",
    "    with open(file_path) as f:\n",
    "        final_annotations = json.load(f)\n",
    "\n",
    "    list_cat_ids = []\n",
    "    list_categories = []\n",
    "\n",
    "    for annotation in final_annotations['annotations']:\n",
    "        list_cat_ids.append(annotation['category_id'])\n",
    "\n",
    "    for annot in list_cat_ids:\n",
    "        list_categories.append(final_categories[annot])\n",
    "\n",
    "    list_cat_ids = pd.DataFrame(list_cat_ids, columns=['List IDs'])\n",
    "    list_categories = pd.DataFrame(list_categories, columns=['List categories'])\n",
    "\n",
    "    hist_categories = pd.concat([list_cat_ids,list_categories], axis=1)\n",
    "    \n",
    "    return hist_categories['List categories'].value_counts(normalize=True)*100\n",
    "\n",
    "    "
   ]
  },
  {
   "cell_type": "markdown",
   "metadata": {},
   "source": [
    "### TACO dataset"
   ]
  },
  {
   "cell_type": "code",
   "execution_count": 61,
   "metadata": {},
   "outputs": [
    {
     "data": {
      "image/png": "[encoded data removed]",
      "text/plain": [
       "<Figure size 640x480 with 1 Axes>"
      ]
     },
     "metadata": {},
     "output_type": "display_data"
    }
   ],
   "source": [
    "draw_class_distribution('../data/TACO/annotations_new.json');"
   ]
  },
  {
   "cell_type": "code",
   "execution_count": 84,
   "metadata": {},
   "outputs": [
    {
     "data": {
      "text/plain": [
       "Plastic           2071\n",
       "Non-recyclable    1035\n",
       "Paper              455\n",
       "Metal              448\n",
       "Glass              248\n",
       "Organic              8\n",
       "E-Waste              2\n",
       "Name: List categories, dtype: int64"
      ]
     },
     "execution_count": 84,
     "metadata": {},
     "output_type": "execute_result"
    }
   ],
   "source": [
    "build_table_distribution('../data/TACO/annotations_new.json')"
   ]
  },
  {
   "cell_type": "code",
   "execution_count": 91,
   "metadata": {},
   "outputs": [
    {
     "data": {
      "text/plain": [
       "Plastic           48.535271\n",
       "Non-recyclable    24.255918\n",
       "Paper             10.663229\n",
       "Metal             10.499180\n",
       "Glass              5.812046\n",
       "Organic            0.187485\n",
       "E-Waste            0.046871\n",
       "Name: List categories, dtype: float64"
      ]
     },
     "execution_count": 91,
     "metadata": {},
     "output_type": "execute_result"
    }
   ],
   "source": [
    "build_table_distribution_normalize('../data/TACO/annotations_new.json')"
   ]
  },
  {
   "cell_type": "markdown",
   "metadata": {},
   "source": [
    "We have a clear class inbalance with the following classes having very few annotations:\n",
    "- Organic (only 8)\n",
    "- E-Waste (only 2)\n",
    "\n",
    "And the following classes with few annotations (< 1000):\n",
    "- Glass\n",
    "- Metal\n",
    "- Paper\n"
   ]
  },
  {
   "cell_type": "markdown",
   "metadata": {},
   "source": [
    "### Drinking Waste Classification"
   ]
  },
  {
   "cell_type": "code",
   "execution_count": 69,
   "metadata": {},
   "outputs": [
    {
     "data": {
      "image/png": "[encoded data removed]",
      "text/plain": [
       "<Figure size 640x480 with 1 Axes>"
      ]
     },
     "metadata": {},
     "output_type": "display_data"
    }
   ],
   "source": [
    "draw_class_distribution('../data/Drinking_Waste_Classification_COCO/labels_new.json')"
   ]
  },
  {
   "cell_type": "code",
   "execution_count": 73,
   "metadata": {},
   "outputs": [
    {
     "data": {
      "text/plain": [
       "Plastic    2528\n",
       "Glass      1402\n",
       "Metal      1128\n",
       "Name: List categories, dtype: int64"
      ]
     },
     "execution_count": 73,
     "metadata": {},
     "output_type": "execute_result"
    }
   ],
   "source": [
    "build_table_distribution('../data/Drinking_Waste_Classification_COCO/labels_new.json')"
   ]
  },
  {
   "cell_type": "code",
   "execution_count": 92,
   "metadata": {},
   "outputs": [
    {
     "data": {
      "text/plain": [
       "Plastic    49.980229\n",
       "Glass      27.718466\n",
       "Metal      22.301305\n",
       "Name: List categories, dtype: float64"
      ]
     },
     "execution_count": 92,
     "metadata": {},
     "output_type": "execute_result"
    }
   ],
   "source": [
    "build_table_distribution_normalize('../data/Drinking_Waste_Classification_COCO/labels_new.json')"
   ]
  },
  {
   "cell_type": "markdown",
   "metadata": {},
   "source": [
    "This dataset will help us improve the class imbalance of the TACO dataset on the following categories:\n",
    "- plastic\n",
    "- glass\n",
    "- metal\n",
    "\n",
    "\n",
    "We still need to get datasets for organic & e-waste categories. "
   ]
  },
  {
   "cell_type": "markdown",
   "metadata": {},
   "source": [
    "### TACO + Drinking Waste Classification"
   ]
  },
  {
   "cell_type": "code",
   "execution_count": 98,
   "metadata": {},
   "outputs": [
    {
     "data": {
      "image/png": "[encoded data removed]",
      "text/plain": [
       "<Figure size 640x480 with 1 Axes>"
      ]
     },
     "metadata": {},
     "output_type": "display_data"
    }
   ],
   "source": [
    "draw_class_distribution('../data/Final_Dataset/final_annotations_coco_V1.json');"
   ]
  },
  {
   "cell_type": "code",
   "execution_count": 100,
   "metadata": {},
   "outputs": [
    {
     "data": {
      "text/plain": [
       "Plastic           4599\n",
       "Glass             1650\n",
       "Metal             1576\n",
       "Non-recyclable    1035\n",
       "Paper              455\n",
       "Organic              8\n",
       "E-Waste              2\n",
       "Name: List categories, dtype: int64"
      ]
     },
     "execution_count": 100,
     "metadata": {},
     "output_type": "execute_result"
    }
   ],
   "source": [
    "build_table_distribution('../data/Final_Dataset/final_annotations_coco_v1.json')"
   ]
  },
  {
   "cell_type": "code",
   "execution_count": 99,
   "metadata": {},
   "outputs": [
    {
     "data": {
      "text/plain": [
       "Plastic           49.319035\n",
       "Glass             17.694370\n",
       "Metal             16.900804\n",
       "Non-recyclable    11.099196\n",
       "Paper              4.879357\n",
       "Organic            0.085791\n",
       "E-Waste            0.021448\n",
       "Name: List categories, dtype: float64"
      ]
     },
     "execution_count": 99,
     "metadata": {},
     "output_type": "execute_result"
    }
   ],
   "source": [
    "build_table_distribution_normalize('../data/Final_Dataset/final_annotations_coco_v1.json')"
   ]
  },
  {
   "cell_type": "markdown",
   "metadata": {},
   "source": [
    "We have a large class imbalance for the following categories:\n",
    "  - Paper (~4.9% of the dataset)\n",
    "  - Organic (~0.09% of the dataset)\n",
    "  - E-Waste (~0.02% of the dataset)\n",
    "\n",
    "We can consider that we have enough annotations for plastic, glass, metal and non-recyclable items."
   ]
  },
  {
   "cell_type": "markdown",
   "metadata": {},
   "source": [
    "### Final Dataset Distribution"
   ]
  },
  {
   "cell_type": "code",
   "execution_count": 33,
   "metadata": {},
   "outputs": [
    {
     "data": {
      "text/plain": [
       "<AxesSubplot:xlabel='Count', ylabel='List categories'>"
      ]
     },
     "execution_count": 33,
     "metadata": {},
     "output_type": "execute_result"
    },
    {
     "data": {
      "image/png": "[encoded data removed]",
      "text/plain": [
       "<Figure size 640x480 with 1 Axes>"
      ]
     },
     "metadata": {},
     "output_type": "display_data"
    }
   ],
   "source": [
    "draw_class_distribution('../data/Final_Dataset/final_annotations_coco_V6.json')"
   ]
  },
  {
   "cell_type": "code",
   "execution_count": 35,
   "metadata": {},
   "outputs": [
    {
     "data": {
      "text/plain": [
       "Plastic           4599\n",
       "E-Waste           2492\n",
       "Glass             1650\n",
       "Metal             1576\n",
       "Paper             1370\n",
       "Organic           1132\n",
       "Non-recyclable    1035\n",
       "Name: List categories, dtype: int64"
      ]
     },
     "execution_count": 35,
     "metadata": {},
     "output_type": "execute_result"
    }
   ],
   "source": [
    "build_table_distribution('../data/Final_Dataset/final_annotations_coco_V6.json')"
   ]
  },
  {
   "cell_type": "code",
   "execution_count": 43,
   "metadata": {},
   "outputs": [
    {
     "data": {
      "text/plain": [
       "Plastic           33.196189\n",
       "E-Waste           17.987585\n",
       "Glass             11.909918\n",
       "Metal             11.375776\n",
       "Paper              9.888841\n",
       "Organic            8.170925\n",
       "Non-recyclable     7.470767\n",
       "Name: List categories, dtype: float64"
      ]
     },
     "execution_count": 43,
     "metadata": {},
     "output_type": "execute_result"
    }
   ],
   "source": [
    "build_table_distribution_normalize('../data/Final_Dataset/final_annotations_coco_V6.json')"
   ]
  },
  {
   "cell_type": "code",
   "execution_count": 44,
   "metadata": {},
   "outputs": [
    {
     "name": "stdout",
     "output_type": "stream",
     "text": [
      "Total number of images: 9478\n",
      "Total number of annotations: 13854\n"
     ]
    }
   ],
   "source": [
    "# Total number of images & annotations in final dataset\n",
    "\n",
    "with open('../data/Final_Dataset/final_annotations_coco_V6.json') as f:\n",
    "    json_file = json.load(f)\n",
    "\n",
    "print(\"Total number of images: \" + str(len(json_file['images'])))\n",
    "print(\"Total number of annotations: \" + str(len(json_file['annotations'])))"
   ]
  }
 ],
 "metadata": {
  "kernelspec": {
   "display_name": "Python 3.8.12 64-bit ('trash_detector_wall-e')",
   "language": "python",
   "name": "python3"
  },
  "language_info": {
   "codemirror_mode": {
    "name": "ipython",
    "version": 3
   },
   "file_extension": ".py",
   "mimetype": "text/x-python",
   "name": "python",
   "nbconvert_exporter": "python",
   "pygments_lexer": "ipython3",
   "version": "3.8.12"
  },
  "orig_nbformat": 4,
  "vscode": {
   "interpreter": {
    "hash": "a9005b8f1337cfce9ec6fa0492a6417dcf5d256ddeac4739f2e09b90b3753a40"
   }
  }
 },
 "nbformat": 4,
 "nbformat_minor": 2
}
